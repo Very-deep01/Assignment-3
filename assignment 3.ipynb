{
 "cells": [
  {
   "cell_type": "code",
   "execution_count": 5,
   "metadata": {},
   "outputs": [
    {
     "name": "stdout",
     "output_type": "stream",
     "text": [
      "\n",
      "Dictionary containing 'Letter':'Letter Count' is shown below:\n",
      "{'s': 1, 'a': 1, 'h': 1, 'n': 1}\n"
     ]
    }
   ],
   "source": [
    "#ques 1\n",
    "#input from user\n",
    "string_name=str(input(\"Enter the string:\"))\n",
    "list1=string_name.split()\n",
    "list_l=[]\n",
    "for e in list1:\n",
    "    lower_e=e.lower()\n",
    "    list_l.append(lower_e)\n",
    "set1=set(list_l)\n",
    "dic={}\n",
    "for el in set1:\n",
    "    count=list_l.count(el)\n",
    "    dic.update({el:count})\n",
    "dic2={}       \n",
    "set2={1,2}\n",
    "set2.clear()  \n",
    "list2=[]     \n",
    "if len(list1)==1:\n",
    "    \n",
    "    for elements in string_name:\n",
    "        list2.append(elements)\n",
    "   \n",
    "    for el in list2:\n",
    "        set2.add(el.lower())\n",
    "    \n",
    "    string_l=string_name.lower()\n",
    "    for elem in set2:\n",
    "        \n",
    "        dic2.update({elem:string_l.count(elem)})\n",
    "    \n",
    "    print(\"\\nDictionary containing 'Letter':'Letter Count' is shown below:\")\n",
    "    print(dic2)\n",
    "\n",
    "else:\n",
    "    print(\"\\nDictionary containing {'Word':'Word Count'} is shown below:\")\n",
    "    print(dic)      "
   ]
  },
  {
   "cell_type": "code",
   "execution_count": 3,
   "metadata": {},
   "outputs": [
    {
     "name": "stdout",
     "output_type": "stream",
     "text": [
      "The next date is [dd-mm-yyyy] 23-12-2022.\n"
     ]
    }
   ],
   "source": [
    "#ques 2\n",
    "\n",
    "year = int(input(\"Input a year: \"))\n",
    "\n",
    "if (year % 400 == 0):\n",
    "    leap_year = True\n",
    "elif (year % 100 == 0):\n",
    "    leap_year = False\n",
    "elif (year % 4 == 0):\n",
    "    leap_year = True\n",
    "else:\n",
    "    leap_year = False\n",
    "\n",
    "month = int(input(\"Input a month [1-12]: \"))\n",
    "\n",
    "if month in (1, 3, 5, 7, 8, 10, 12):\n",
    "    month_length = 31\n",
    "elif month == 2:\n",
    "    if leap_year:\n",
    "        month_length = 29\n",
    "    else:\n",
    "        month_length = 28\n",
    "else:\n",
    "    month_length = 30\n",
    "\n",
    "\n",
    "day = int(input(\"Input a day [1-31]: \"))\n",
    "\n",
    "if day < month_length:\n",
    "    day += 1\n",
    "else:\n",
    "    day = 1\n",
    "    if month == 12:\n",
    "        month = 1\n",
    "        year += 1\n",
    "    else:\n",
    "        month += 1\n",
    "print(\"The next date is [dd-mm-yyyy] %d-%d-%d.\" % (day, month,year))\n"
   ]
  },
  {
   "cell_type": "code",
   "execution_count": 6,
   "metadata": {},
   "outputs": [
    {
     "name": "stdout",
     "output_type": "stream",
     "text": [
      "((2, 4), (4, 16), (6, 36))\n"
     ]
    }
   ],
   "source": [
    "#ques3\n",
    "a=int(input(\"Enter a no.=\"))\n",
    "b=a*a\n",
    "c=int(input(\"Enter a no.=\"))\n",
    "d=c*c\n",
    "e=int(input(\"Enter a no.=\"))\n",
    "f=e*e\n",
    "\n",
    "\n",
    "\n",
    "list=((a,b),(c,d),(e,f))\n",
    "print(list)"
   ]
  },
  {
   "cell_type": "code",
   "execution_count": 10,
   "metadata": {},
   "outputs": [
    {
     "name": "stdout",
     "output_type": "stream",
     "text": [
      "Your Grade is 'A+' and Outstanding Performance\n"
     ]
    }
   ],
   "source": [
    "#ques4\n",
    "a=int(input(\"Enter your grade=\"))\n",
    "if a==4:\n",
    "    print(\"Your Grade is 'D' and poor Performance\")\n",
    "elif a==5:\n",
    "    print(\"Your Grade is 'C' and Below Average Performance\")\n",
    "elif a==6:\n",
    "    print(\"Your Grade is 'C+' and Average Performance\")\n",
    "elif a==7:\n",
    "    print(\"Your Grade is 'B' and Good Performance\")\n",
    "elif a==8:\n",
    "    print(\"Your Grade is 'B+' and Very Good Performance\")\n",
    "elif a==9:\n",
    "    print(\"Your Grade is 'A' and Excellent Performance\")\n",
    "elif a==10:\n",
    "    print(\"Your Grade is 'A+' and Outstanding Performance\")\n",
    "else: \n",
    "     print(\"ERROR\")\n"
   ]
  },
  {
   "cell_type": "code",
   "execution_count": 11,
   "metadata": {},
   "outputs": [
    {
     "name": "stdout",
     "output_type": "stream",
     "text": [
      " ABCDEFGHIJK\n",
      "  ABCDEFGHI\n",
      "   ABCDEFG\n",
      "    ABCDE\n",
      "     ABC\n",
      "      A\n"
     ]
    }
   ],
   "source": [
    "#Ques 5\n",
    "string = \"ABCDEFGHIJK\"\n",
    "j = 0\n",
    "while len(string)-j*2 >= 1:\n",
    "    print(\" \"*j, string[0 : len(string) - j*2])\n",
    "    j += 1"
   ]
  },
  {
   "cell_type": "code",
   "execution_count": 18,
   "metadata": {},
   "outputs": [
    {
     "name": "stdout",
     "output_type": "stream",
     "text": [
      "geek\n",
      "gekor\n",
      "geeks\n"
     ]
    }
   ],
   "source": [
    "#que 5\n",
    "\n",
    "list = [\"geek\", \"gekor\", \"geeks\"]\n",
    "for index in range(len(list)):\n",
    "    print(list[index])"
   ]
  },
  {
   "cell_type": "code",
   "execution_count": 3,
   "metadata": {},
   "outputs": [
    {
     "name": "stdout",
     "output_type": "stream",
     "text": [
      "\n",
      "Q.6(a)\n",
      "The Dictionary containing {'SID':'Name'} is shown below\n",
      "{22105078: 'ansh', 22105079: 'Ansh'}\n",
      "\n",
      "Q.6(b)\n",
      "The Dictionary after sorting according to name:\n",
      "{22105079: 'Ansh', 22105078: 'ansh'}\n",
      "\n",
      "Q.6(c)\n",
      "The Dictionary after sorting according to SID:\n",
      "{22105078: 'ansh', 22105079: 'Ansh'}\n",
      "\n",
      "Q.6(d)\n",
      "Name of student with SID 22105078 is ansh.\n"
     ]
    }
   ],
   "source": [
    "#que 6\n",
    "repeat=\"Y\"\n",
    "dic={}\n",
    "dic2={}\n",
    "#List containing Y or N\n",
    "liste=[\"Y\",\"y\",\"n\",\"N\"]\n",
    "while repeat==\"Y\" or repeat==\"y\":\n",
    "    \n",
    "    name = str(input(\"Enter student name:\"))\n",
    "    sid = int(input(\"Enter student SID:\"))\n",
    "    if sid<0:\n",
    "        print(\"\\nError\\nSID can't be negative\\n\")\n",
    "    else:\n",
    "       \n",
    "        dic.update({sid: name})\n",
    "        \n",
    "        dic2.update({name:sid})\n",
    "       \n",
    "        repeat = str(input(\"Enter Y to continue or N to end:\"))\n",
    "    if repeat==\"N\" or repeat==\"n\":\n",
    "        break\n",
    "    elif (not (repeat in liste)):\n",
    "        print(\"\\nError\\nPlease enter valid input['Y' or 'N']\")\n",
    "        repeat=str(input(\"\\nEnter Y to continue or N to end:\"))\n",
    "\n",
    "# a\n",
    "#printing the dictionary\n",
    "print(\"\\nQ.6(a)\")\n",
    "print(\"The Dictionary containing {'SID':'Name'} is shown below\")\n",
    "print(dic)\n",
    "# b\n",
    "#sorting according to name\n",
    "print(\"\\nQ.6(b)\")\n",
    "list_k=sorted(dic2)\n",
    "dic3={}\n",
    "for ele in list_k:\n",
    "    dic3.update({dic2.get(ele):ele})\n",
    "print(\"The Dictionary after sorting according to name:\")\n",
    "print(dic3)\n",
    "\n",
    "# c\n",
    "#sorting according to SID\n",
    "print(\"\\nQ.6(c)\")\n",
    "sort_dic = sorted(dic)\n",
    "dic4 = {}\n",
    "for va in sort_dic:\n",
    "    dic4.update({va: dic.get(va)})\n",
    "print(\"The Dictionary after sorting according to SID:\")\n",
    "print(dic4)\n",
    "# d\n",
    "print(\"\\nQ.6(d)\")\n",
    "# Taking input SID to be searched\n",
    "enter_sid = int(input(\"Enter SID to get name of student:\"))\n",
    "# Searching for sid as key in dic\n",
    "output_name = str(dic.get(enter_sid))\n",
    "# printing name with key sid\n",
    "print(f\"Name of student with SID {enter_sid} is {output_name}.\")"
   ]
  },
  {
   "cell_type": "code",
   "execution_count": 21,
   "metadata": {},
   "outputs": [
    {
     "name": "stdout",
     "output_type": "stream",
     "text": [
      "\n",
      "The fibonacci series with 10 elements is shown below:\n",
      "[1, 1, 2, 3, 5, 8, 13, 21, 34, 55]\n",
      "\n",
      "Average of given fibonacci series is 14.30\n"
     ]
    }
   ],
   "source": [
    "#que 7\n",
    "n=int(input(\"Enter number of elements N in fibonacci series:\\n[N must be positive Integer]: N=\"))\n",
    "\n",
    "if n<=0 :\n",
    "    print(\"\\nError\\nNumber of elements in fibonacci series must be integer and greater than zero.\")\n",
    "\n",
    "else:\n",
    "   \n",
    "    if n == 1:\n",
    "        print(\"\\nThe fibonacci series with 1 element is shown below\\n[1]\")\n",
    "        print(\"\\nAverage of given fibonacci series is\", 1)\n",
    "\n",
    "    elif n == 2:\n",
    "        print(\"\\nThe fibonacci series with 2 element is shown below\\n[1,1]\")\n",
    "        print(\"\\nAverage of given fibonacci series is\", 1)\n",
    "    \n",
    "    else:\n",
    "        \n",
    "        list1 = [1, 1]\n",
    "        \n",
    "        a = 1\n",
    "        b = 1\n",
    "        \n",
    "        for i in range(n - 2):\n",
    "            s = a + b\n",
    "            list1.append(s)\n",
    "            a = b\n",
    "            b = s\n",
    "        \n",
    "        print(f\"\\nThe fibonacci series with {n} elements is shown below:\")\n",
    "        print(list1)\n",
    "        \n",
    "        sum = 0    #intial sum=0\n",
    "        \n",
    "        for num in list1:\n",
    "            sum = sum + num\n",
    "        average = (sum / n)\n",
    "        \n",
    "        two_decimal = \"{:.2f}\".format(average)\n",
    "        \n",
    "        print(f\"\\nAverage of given fibonacci series is {two_decimal}\")"
   ]
  },
  {
   "cell_type": "code",
   "execution_count": 2,
   "metadata": {},
   "outputs": [
    {
     "name": "stdout",
     "output_type": "stream",
     "text": [
      "Set1= {1, 2, 3, 4, 5}\n",
      "Set2= {8, 2, 4, 6}\n",
      "Set3= {1, 17, 5, 9, 13}\n",
      "\n",
      "Q.8(a)\n",
      "\n",
      "A new Set of all 'elements that are in Set1 and Set2 but not both' is:\n",
      "{1, 3, 5, 6, 8}\n",
      "\n",
      "Q.8(b)\n",
      "\n",
      "A new set of all elements that are 'in only one of the three sets Set1,Set2 and Set3' is:\n",
      "{3, 6, 8, 9, 13, 17}\n",
      "\n",
      "Q.8(c)\n",
      "\n",
      "A new set of elements that are 'exactly in two of the sets Set1, Set2 and Set3' is:\n",
      "{1, 2, 4, 5}\n",
      "\n",
      "Q.8(d)\n",
      "\n",
      "A new set of all Integers in the 'range 1 to 10' that are 'not in Set1' is:\n",
      "{6, 7, 8, 9, 10}\n",
      "\n",
      "Q.8(e)\n",
      "\n",
      "A new set of all Integers in the range 1 to 10 that are not in Set1,Set2 and Set3.\n",
      "{10, 7}\n"
     ]
    }
   ],
   "source": [
    "#que 8\n",
    "\n",
    "\n",
    "#Given Sets\n",
    "set1= {1, 2, 3, 4, 5}\n",
    "set2= {2, 4, 6, 8}\n",
    "set3= {1, 5, 9, 13, 17}\n",
    "#printing the given sets\n",
    "print(f\"Set1= {set1}\\nSet2= {set2}\\nSet3= {set3}\")\n",
    "#a\n",
    "print(\"\\nQ.8(a)\")\n",
    "print(\"\\nA new Set of all 'elements that are in Set1 and Set2 but not both' is:\")\n",
    "set_sym_dif=set1.symmetric_difference(set2)\n",
    "print(set_sym_dif)\n",
    "#b\n",
    "#set1 Union set2\n",
    "print(\"\\nQ.8(b)\")\n",
    "print(\"\\nA new set of all elements that are 'in only one of the three sets Set1,Set2 and Set3' is:\")\n",
    "set_u1=set1.union(set2)\n",
    "\n",
    "#set1 Union set2 Union set3\n",
    "set_uf=set_u1.union(set3)\n",
    "\n",
    "#set1 intersection set2\n",
    "set_i1=set1.intersection(set2)\n",
    "\n",
    "#set1 intersection set2 intersection set3\n",
    "set_if=set_i1.intersection(set3)\n",
    "\n",
    "#set1 intersection set2\n",
    "set_12=set1.intersection(set2)\n",
    "\n",
    "#set2 intersection set3\n",
    "set_23=set2.intersection(set3)\n",
    "\n",
    "#set3 intersection set1\n",
    "set_13=set1.intersection(set3)\n",
    "\n",
    "#final required set\n",
    "set_f1=set_uf-set_12-set_23-set_13\n",
    "print(set_f1)\n",
    "#c\n",
    "print(\"\\nQ.8(c)\")\n",
    "set_c1=set_12.union(set_23)\n",
    "set_c2=set_c1.union(set_13)\n",
    "set_final=set_c2-set_if\n",
    "print(\"\\nA new set of elements that are 'exactly in two of the sets Set1, Set2 and Set3' is:\")\n",
    "print(set_final)\n",
    "#d\n",
    "#forming a set containing values from 1 to 10\n",
    "print(\"\\nQ.8(d)\")\n",
    "set_d={1,2}\n",
    "set_d.clear()\n",
    "for i in range(1,11):\n",
    "    set_d.add(i)\n",
    "set_new=set_d-set1\n",
    "#printing final set\n",
    "print(\"\\nA new set of all Integers in the 'range 1 to 10' that are 'not in Set1' is:\")\n",
    "print(set_new)\n",
    "#e\n",
    "print(\"\\nQ.8(e)\")\n",
    "set_e=set_d-set_uf\n",
    "print(\"\\nA new set of all Integers in the range 1 to 10 that are not in Set1,Set2 and Set3.\")\n",
    "print(set_e)"
   ]
  }
 ],
 "metadata": {
  "kernelspec": {
   "display_name": "Python 3",
   "language": "python",
   "name": "python3"
  },
  "language_info": {
   "codemirror_mode": {
    "name": "ipython",
    "version": 3
   },
   "file_extension": ".py",
   "mimetype": "text/x-python",
   "name": "python",
   "nbconvert_exporter": "python",
   "pygments_lexer": "ipython3",
   "version": "3.10.9"
  },
  "orig_nbformat": 4,
  "vscode": {
   "interpreter": {
    "hash": "7536d7b229462f4296d4c0dae49c3bd6cd3990c783d6b9d88ce3c31a78605890"
   }
  }
 },
 "nbformat": 4,
 "nbformat_minor": 2
}
